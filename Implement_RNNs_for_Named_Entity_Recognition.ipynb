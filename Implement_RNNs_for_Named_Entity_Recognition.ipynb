{
  "nbformat": 4,
  "nbformat_minor": 0,
  "metadata": {
    "colab": {
      "provenance": []
    },
    "kernelspec": {
      "name": "python3",
      "display_name": "Python 3"
    },
    "language_info": {
      "name": "python"
    }
  },
  "cells": [
    {
      "cell_type": "code",
      "execution_count": null,
      "metadata": {
        "id": "7CwRs8oyhwOP"
      },
      "outputs": [],
      "source": [
        "# Import Libraries\n",
        "import numpy as np\n",
        "import torch\n",
        "import torch.nn as nn\n",
        "from torch.optim import Adam\n",
        "from torch.utils.data import Dataset, DataLoader\n",
        "from sklearn.metrics import classification_report\n",
        "from tqdm import tqdm"
      ]
    },
    {
      "cell_type": "code",
      "source": [
        "# Load CoNLL-2003 Dataset\n",
        "def load_conll2003_data(file_path):\n",
        "    sentences, tags = [], []\n",
        "    sentence, sentence_tags = [], []\n",
        "    with open(file_path, 'r') as f:\n",
        "        for line in f:\n",
        "            if line.strip() == \"\":\n",
        "                if sentence:\n",
        "                    sentences.append(sentence)\n",
        "                    tags.append(sentence_tags)\n",
        "                    sentence, sentence_tags = [], []\n",
        "            else:\n",
        "                word, _, _, tag = line.split()\n",
        "                sentence.append(word)\n",
        "                sentence_tags.append(tag)\n",
        "    return sentences, tags\n",
        "\n",
        "train_sentences, train_tags = load_conll2003_data('train.txt')\n",
        "test_sentences, test_tags = load_conll2003_data('test.txt')"
      ],
      "metadata": {
        "id": "F19tEmsnrB_t"
      },
      "execution_count": 3,
      "outputs": []
    },
    {
      "cell_type": "code",
      "source": [
        "# Preprocess Data\n",
        "def build_vocab(data):\n",
        "    vocab = {\"<PAD>\": 0, \"<UNK>\": 1}\n",
        "    for sentence in data:\n",
        "        for word in sentence:\n",
        "            if word not in vocab:\n",
        "                vocab[word] = len(vocab)\n",
        "    return vocab\n",
        "\n",
        "word_vocab = build_vocab(train_sentences)\n",
        "tag_vocab = build_vocab(train_tags)\n",
        "tag_reverse_vocab = {v: k for k, v in tag_vocab.items()}\n",
        "\n",
        "def encode_data(sentences, tags, word_vocab, tag_vocab, max_len=50):\n",
        "    encoded_sentences, encoded_tags = [], []\n",
        "    for sent, tag in zip(sentences, tags):\n",
        "        encoded_sentences.append([word_vocab.get(w, 1) for w in sent][:max_len] + [0] * (max_len - len(sent)))\n",
        "        encoded_tags.append([tag_vocab[t] for t in tag][:max_len] + [0] * (max_len - len(tag)))\n",
        "    return np.array(encoded_sentences), np.array(encoded_tags)\n",
        "\n",
        "train_inputs, train_labels = encode_data(train_sentences, train_tags, word_vocab, tag_vocab)\n",
        "test_inputs, test_labels = encode_data(test_sentences, test_tags, word_vocab, tag_vocab)"
      ],
      "metadata": {
        "id": "HJchZb_8tCTU"
      },
      "execution_count": 4,
      "outputs": []
    },
    {
      "cell_type": "code",
      "source": [
        "# Step 4: Define Dataset and DataLoader\n",
        "class NERDataset(Dataset):\n",
        "    def __init__(self, inputs, labels):\n",
        "        self.inputs = inputs\n",
        "        self.labels = labels\n",
        "\n",
        "    def __len__(self):\n",
        "        return len(self.inputs)\n",
        "\n",
        "    def __getitem__(self, idx):\n",
        "        return torch.tensor(self.inputs[idx]), torch.tensor(self.labels[idx])\n",
        "\n",
        "train_dataset = NERDataset(train_inputs, train_labels)\n",
        "test_dataset = NERDataset(test_inputs, test_labels)\n",
        "train_loader = DataLoader(train_dataset, batch_size=32, shuffle=True)\n",
        "test_loader = DataLoader(test_dataset, batch_size=32)\n",
        "\n",
        "# Define RNN Model\n",
        "class NERModel(nn.Module):\n",
        "    def __init__(self, vocab_size, tag_size, embedding_dim, hidden_dim):\n",
        "        super(NERModel, self).__init__()\n",
        "        self.embedding = nn.Embedding(vocab_size, embedding_dim)\n",
        "        self.rnn = nn.LSTM(embedding_dim, hidden_dim, batch_first=True)\n",
        "        self.fc = nn.Linear(hidden_dim, tag_size)\n",
        "\n",
        "    def forward(self, x):\n",
        "        x = self.embedding(x)\n",
        "        x, _ = self.rnn(x)\n",
        "        x = self.fc(x)\n",
        "        return x\n",
        "\n",
        "vocab_size = len(word_vocab)\n",
        "tag_size = len(tag_vocab)\n",
        "model = NERModel(vocab_size, tag_size, embedding_dim=100, hidden_dim=128)\n",
        "\n",
        "# Train the Model\n",
        "criterion = nn.CrossEntropyLoss()\n",
        "optimizer = Adam(model.parameters(), lr=0.001)\n",
        "\n",
        "def train_model(model, data_loader, criterion, optimizer, num_epochs=10):\n",
        "    model.train()\n",
        "    for epoch in range(num_epochs):\n",
        "        total_loss = 0\n",
        "        for inputs, labels in tqdm(data_loader):\n",
        "            optimizer.zero_grad()\n",
        "            outputs = model(inputs)\n",
        "            loss = criterion(outputs.view(-1, outputs.shape[-1]), labels.view(-1))\n",
        "            loss.backward()\n",
        "            optimizer.step()\n",
        "            total_loss += loss.item()\n",
        "        print(f\"Epoch {epoch+1}, Loss: {total_loss/len(data_loader)}\")\n",
        "\n",
        "train_model(model, train_loader, criterion, optimizer)"
      ],
      "metadata": {
        "colab": {
          "base_uri": "https://localhost:8080/"
        },
        "id": "6z17VpydtZxE",
        "outputId": "3318edcf-4679-4194-e89c-7bc055e40402"
      },
      "execution_count": 7,
      "outputs": [
        {
          "output_type": "stream",
          "name": "stderr",
          "text": [
            "100%|██████████| 469/469 [00:36<00:00, 12.94it/s]\n"
          ]
        },
        {
          "output_type": "stream",
          "name": "stdout",
          "text": [
            "Epoch 1, Loss: 0.24618404563556093\n"
          ]
        },
        {
          "output_type": "stream",
          "name": "stderr",
          "text": [
            "100%|██████████| 469/469 [00:33<00:00, 14.08it/s]\n"
          ]
        },
        {
          "output_type": "stream",
          "name": "stdout",
          "text": [
            "Epoch 2, Loss: 0.11880475890312368\n"
          ]
        },
        {
          "output_type": "stream",
          "name": "stderr",
          "text": [
            "100%|██████████| 469/469 [00:32<00:00, 14.22it/s]\n"
          ]
        },
        {
          "output_type": "stream",
          "name": "stdout",
          "text": [
            "Epoch 3, Loss: 0.07616251681659267\n"
          ]
        },
        {
          "output_type": "stream",
          "name": "stderr",
          "text": [
            "100%|██████████| 469/469 [00:31<00:00, 14.70it/s]\n"
          ]
        },
        {
          "output_type": "stream",
          "name": "stdout",
          "text": [
            "Epoch 4, Loss: 0.05158718096326663\n"
          ]
        },
        {
          "output_type": "stream",
          "name": "stderr",
          "text": [
            "100%|██████████| 469/469 [00:32<00:00, 14.56it/s]\n"
          ]
        },
        {
          "output_type": "stream",
          "name": "stdout",
          "text": [
            "Epoch 5, Loss: 0.03581014247353016\n"
          ]
        },
        {
          "output_type": "stream",
          "name": "stderr",
          "text": [
            "100%|██████████| 469/469 [00:31<00:00, 14.86it/s]\n"
          ]
        },
        {
          "output_type": "stream",
          "name": "stdout",
          "text": [
            "Epoch 6, Loss: 0.025151696399664445\n"
          ]
        },
        {
          "output_type": "stream",
          "name": "stderr",
          "text": [
            "100%|██████████| 469/469 [00:32<00:00, 14.63it/s]\n"
          ]
        },
        {
          "output_type": "stream",
          "name": "stdout",
          "text": [
            "Epoch 7, Loss: 0.017532751319616208\n"
          ]
        },
        {
          "output_type": "stream",
          "name": "stderr",
          "text": [
            "100%|██████████| 469/469 [00:32<00:00, 14.65it/s]\n"
          ]
        },
        {
          "output_type": "stream",
          "name": "stdout",
          "text": [
            "Epoch 8, Loss: 0.012095221706521091\n"
          ]
        },
        {
          "output_type": "stream",
          "name": "stderr",
          "text": [
            "100%|██████████| 469/469 [00:32<00:00, 14.37it/s]\n"
          ]
        },
        {
          "output_type": "stream",
          "name": "stdout",
          "text": [
            "Epoch 9, Loss: 0.008388328453603346\n"
          ]
        },
        {
          "output_type": "stream",
          "name": "stderr",
          "text": [
            "100%|██████████| 469/469 [00:32<00:00, 14.42it/s]"
          ]
        },
        {
          "output_type": "stream",
          "name": "stdout",
          "text": [
            "Epoch 10, Loss: 0.005872354603686265\n"
          ]
        },
        {
          "output_type": "stream",
          "name": "stderr",
          "text": [
            "\n"
          ]
        }
      ]
    },
    {
      "cell_type": "code",
      "source": [
        "# Evaluate the Model\n",
        "def evaluate_model(model, data_loader, tag_reverse_vocab):\n",
        "    model.eval()\n",
        "    all_preds, all_labels = [], []\n",
        "    with torch.no_grad():\n",
        "        for inputs, labels in data_loader:\n",
        "            outputs = model(inputs)\n",
        "            preds = outputs.argmax(dim=-1).view(-1).cpu().numpy()\n",
        "            labels = labels.view(-1).cpu().numpy()\n",
        "            mask = labels != 0\n",
        "            all_preds.extend(preds[mask])\n",
        "            all_labels.extend(labels[mask])\n",
        "\n",
        "    # Get unique labels from predictions and ground truth\n",
        "    unique_labels = list(set(all_labels))\n",
        "\n",
        "    # Filter target names to match unique labels\n",
        "    target_names = [tag_reverse_vocab[label] for label in unique_labels if label in tag_reverse_vocab]\n",
        "\n",
        "    #Generate and print classification report\n",
        "    print(classification_report(all_labels, all_preds, target_names=target_names, labels=unique_labels))\n",
        "\n",
        "evaluate_model(model, test_loader, tag_reverse_vocab)"
      ],
      "metadata": {
        "colab": {
          "base_uri": "https://localhost:8080/"
        },
        "id": "5bmB6K6OvZJM",
        "outputId": "ea7062df-486f-4cca-c9e4-de09e6577ab2"
      },
      "execution_count": 9,
      "outputs": [
        {
          "output_type": "stream",
          "name": "stdout",
          "text": [
            "              precision    recall  f1-score   support\n",
            "\n",
            "           O       0.97      0.96      0.96     38378\n",
            "       B-ORG       0.67      0.59      0.63      1658\n",
            "      B-MISC       0.73      0.62      0.67       701\n",
            "       B-PER       0.84      0.59      0.70      1580\n",
            "       I-PER       0.87      0.50      0.64      1111\n",
            "       B-LOC       0.83      0.79      0.81      1656\n",
            "       I-ORG       0.28      0.79      0.41       827\n",
            "      I-MISC       0.65      0.52      0.58       216\n",
            "       I-LOC       0.70      0.65      0.68       255\n",
            "\n",
            "    accuracy                           0.91     46382\n",
            "   macro avg       0.73      0.67      0.67     46382\n",
            "weighted avg       0.93      0.91      0.91     46382\n",
            "\n"
          ]
        }
      ]
    }
  ]
}